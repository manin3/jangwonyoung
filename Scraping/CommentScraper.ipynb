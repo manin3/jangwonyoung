{
  "nbformat": 4,
  "nbformat_minor": 0,
  "metadata": {
    "colab": {
      "provenance": []
    },
    "kernelspec": {
      "name": "python3",
      "display_name": "Python 3"
    },
    "language_info": {
      "name": "python"
    }
  },
  "cells": [
    {
      "cell_type": "code",
      "execution_count": 1,
      "metadata": {
        "id": "H7wkvLviji2P"
      },
      "outputs": [],
      "source": [
        "from googleapiclient.discovery import build"
      ]
    },
    {
      "cell_type": "code",
      "source": [
        "api_key = 'HIDDEN'\n",
        "youtube = build('youtube', 'v3', developerKey=api_key)"
      ],
      "metadata": {
        "id": "Zqnn4dVDjlbR"
      },
      "execution_count": 2,
      "outputs": []
    },
    {
      "cell_type": "code",
      "source": [
        "video_id = 'AH8A79BrTEY'"
      ],
      "metadata": {
        "id": "7V0h6hp1jtzw"
      },
      "execution_count": 3,
      "outputs": []
    },
    {
      "cell_type": "code",
      "source": [
        "def get_video_comments(api_key, video_id, max_results=50):\n",
        "    youtube = build('youtube', 'v3', developerKey=api_key)\n",
        "\n",
        "    comments = []\n",
        "    nextPageToken = None\n",
        "\n",
        "    while True:\n",
        "        request = youtube.commentThreads().list(\n",
        "            part='snippet',\n",
        "            videoId=video_id,\n",
        "            textFormat='plainText',\n",
        "            maxResults=min(max_results, 100),\n",
        "            pageToken=nextPageToken\n",
        "        )\n",
        "\n",
        "        response = request.execute()\n",
        "\n",
        "        for comment in response['items']:\n",
        "            text = comment['snippet']['topLevelComment']['snippet']['textDisplay']\n",
        "            comments.append(text)\n",
        "\n",
        "        nextPageToken = response.get('nextPageToken')\n",
        "\n",
        "        if not nextPageToken or len(comments) >= max_results:\n",
        "            break\n",
        "\n",
        "    return comments"
      ],
      "metadata": {
        "id": "NKwyW7tfj7XY"
      },
      "execution_count": 7,
      "outputs": []
    },
    {
      "cell_type": "code",
      "source": [
        "max_results = 50\n",
        "\n",
        "# Get comments for the specified video\n",
        "all_comments = get_video_comments(api_key, video_id, max_results)"
      ],
      "metadata": {
        "id": "zvG7Ip8Jj_Qo"
      },
      "execution_count": 8,
      "outputs": []
    },
    {
      "cell_type": "code",
      "source": [
        "all_comments"
      ],
      "metadata": {
        "colab": {
          "base_uri": "https://localhost:8080/"
        },
        "id": "wNYMkMXekC0H",
        "outputId": "1e50079f-4660-4040-8685-881e210d44f0"
      },
      "execution_count": 9,
      "outputs": [
        {
          "output_type": "execute_result",
          "data": {
            "text/plain": [
              "['WE LOVE YOU, NEWJEANS!',\n",
              " 'Byun baekhyunn!!!😭😭❤️',\n",
              " \"HEARTSTELL ate all the performance. I'm so proud of my love, Baekhyun. His vocal and dance are powerful and he is so excited. Baekzreal you did very well ❤️😘🐶🤘\",\n",
              " 'why not available in 4k, such a unique event and this was recorded in 1080p, are we living in 2010 ',\n",
              " 'This is by far the best ever opening ceremony.',\n",
              " 'We want more of HEARTSTEEL!!! They did amazing. Baekhyun has my heart <3 he is such a performer.',\n",
              " 'HEARTS? STOLEN.',\n",
              " 'THEY ALL SLAYED SO HARD OMG!!',\n",
              " 'HEARTSTEEL Slayed!!! All the membersTobi,Ozi,Cal & Baek killed it, Baekhyun really gave all his energy on stage. Love it, so proud as an Exo-L ❤, I was expecting a bit longer performance & better camera work but nevertheless I really enjoyed.',\n",
              " 'As an ExoL, I cannot put it in words how proud I am of Baekhyun!! Those vocals with that Top notch Dance!!?? We definitely need a full Paranoia performance of Heartsteel!!',\n",
              " 'omg i love Baekhyun 🤍',\n",
              " 'Im here for NewJeans 😍😍😍😍',\n",
              " '현장에서 챔피언이 보였나요?? 화면으로만 보이는건가',\n",
              " 'Newjeans crushed the stage wow!😍🙌',\n",
              " 'That transition wtf',\n",
              " 'What a time to be alive!',\n",
              " '09:42 GODS a lo que vinimos🔥🔥🔥',\n",
              " '3:54 paranoia - heartsteel',\n",
              " \"Hello, Humans \\nSometimes in life, you have to make tough choices. Don't overthink anything, keep your mind positive.\\n\\nTERRANCE OUT\",\n",
              " 'baekhyun danced and sang like the rent was due',\n",
              " 'Exo Baekhyun ❤️ Ezreal',\n",
              " 'GODJEANSSS',\n",
              " \"Going to give some love to my boy Tobi Lou absolutely killed it with his part all of the heart steel Squad members did absolutely great can't wait for the next banger!🤟🏾❤️\\u200d🔥🎉\",\n",
              " 'Cgi sigue siendo medio pésimo :(',\n",
              " \"the performance was so fvcking littt, best opening so far for me since newjeans was included, league don't let us down even the animations will make u goosebumps ❤\",\n",
              " 'still no better than 2019 worlds ceromony..',\n",
              " 'Baekhyun SLAYED, as always.',\n",
              " 'Mako redemption arc ❤',\n",
              " '4:33',\n",
              " 'Nah, too much CGI. You need to highlight  the performers like wtf.',\n",
              " \"The way I purposely avoid watching this video because I didn't see Baekhyun (Heartsteel) on the thumbnail 😭\\nThank goodness I eventually clicked this because they were here!\",\n",
              " '뉴진스?',\n",
              " 'AMAMOS BAEKHYUN CHAMEM ELE MAIS VEZES',\n",
              " 'Please give us more HEARTSTEEL😭Once was not enough',\n",
              " \"Waiting for more Heartsteel's stage appearances in the future. Baekhyun's live vocal is amazing, dancing and singing at the same time. What a pro Idol, Much better than the band New Jeans, their singing was quite weak and I was quite disappointed with them\",\n",
              " '\"They prayin\\' for the death of a rockstar\" our Baekzreal slayy... I\\'m so proud of him...',\n",
              " '레오나 궁으로 모데 죽이는 연출 지리네 ㄷㄷ... 12:04 특히 저 남자분 표정연기 너무 잘함 ㅠㅠ 물론 뉴진스는 말해 뭐해! 다들 너무 예쁘고 안무도 없는데 창작해서 연습하느라 수고했어요 ㅠㅠ 거기다 라이브도 잘하누~~',\n",
              " 'baekhyun and heartsteel team the best!!!!!!!!!!!!',\n",
              " 'RISE should be national anthem for LOL',\n",
              " 'HEARTSTEEL crushed them all!!! BAEKZREAL on fire!!! Vocal on point!! Dancing on point!! Energy on point!! Visual on point!! Performance on point!! The great Baekhyun you are!!',\n",
              " 'baekhyun aku bangga padamu',\n",
              " 'Faltó Bobby en Rise',\n",
              " 'HEARTSTEEL BAEKZREAL',\n",
              " 'such a big company, need a volume mixer.',\n",
              " '4:43 신기한 효과',\n",
              " 'which Baekhyun and the which Baekhyun and the Heartsteel members always look forward to performing live members always look forward to performing live 🔥🔥🤩',\n",
              " 'Keria be like \"Dont look dont let them see my fanboy side nvm let me fix my earpiece so i can hear newjeans\" just kidding 😂',\n",
              " '아니 백현 쩌네 쩐다 와우 역시 내 가수',\n",
              " '🔥🔥🔥🔥🔥🔥🔥🔥🔥🔥🔥🔥🔥🔥🔥🔥🔥🔥🔥🔥🔥🔥🔥🚀🔥',\n",
              " 'A plateia bem animada graças a Deus 🤡']"
            ]
          },
          "metadata": {},
          "execution_count": 9
        }
      ]
    },
    {
      "cell_type": "code",
      "source": [],
      "metadata": {
        "id": "4-7o2m6bk3jp"
      },
      "execution_count": null,
      "outputs": []
    }
  ]
}